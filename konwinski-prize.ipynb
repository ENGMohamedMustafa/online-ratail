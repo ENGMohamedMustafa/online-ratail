{
 "cells": [
  {
   "cell_type": "code",
   "execution_count": 1,
   "id": "cffe33b5",
   "metadata": {
    "execution": {
     "iopub.execute_input": "2024-12-12T14:41:37.972782Z",
     "iopub.status.busy": "2024-12-12T14:41:37.972355Z",
     "iopub.status.idle": "2024-12-12T14:41:52.357113Z",
     "shell.execute_reply": "2024-12-12T14:41:52.355952Z"
    },
    "papermill": {
     "duration": 14.392557,
     "end_time": "2024-12-12T14:41:52.360329",
     "exception": false,
     "start_time": "2024-12-12T14:41:37.967772",
     "status": "completed"
    },
    "tags": []
   },
   "outputs": [],
   "source": [
    "import io\n",
    "import os\n",
    "import shutil\n",
    "import numpy as np \n",
    "import pandas as pd \n",
    "import polars as pl\n",
    "import kaggle_evaluation.konwinski_prize_inference_server"
   ]
  },
  {
   "cell_type": "code",
   "execution_count": 2,
   "id": "98f6b395",
   "metadata": {
    "execution": {
     "iopub.execute_input": "2024-12-12T14:41:52.370024Z",
     "iopub.status.busy": "2024-12-12T14:41:52.369384Z",
     "iopub.status.idle": "2024-12-12T14:41:52.374978Z",
     "shell.execute_reply": "2024-12-12T14:41:52.373826Z"
    },
    "papermill": {
     "duration": 0.013154,
     "end_time": "2024-12-12T14:41:52.377567",
     "exception": false,
     "start_time": "2024-12-12T14:41:52.364413",
     "status": "completed"
    },
    "tags": []
   },
   "outputs": [],
   "source": [
    "instance_count = None"
   ]
  },
  {
   "cell_type": "code",
   "execution_count": 3,
   "id": "6ea71267",
   "metadata": {
    "execution": {
     "iopub.execute_input": "2024-12-12T14:41:52.387506Z",
     "iopub.status.busy": "2024-12-12T14:41:52.386398Z",
     "iopub.status.idle": "2024-12-12T14:41:52.392317Z",
     "shell.execute_reply": "2024-12-12T14:41:52.390953Z"
    },
    "papermill": {
     "duration": 0.01317,
     "end_time": "2024-12-12T14:41:52.394514",
     "exception": false,
     "start_time": "2024-12-12T14:41:52.381344",
     "status": "completed"
    },
    "tags": []
   },
   "outputs": [],
   "source": [
    "def get_number_of_instances(num_instances: int) -> None:\n",
    "    global instance_count\n",
    "    instance_count = num_instances\n",
    "\n",
    "first_prediction = True"
   ]
  },
  {
   "cell_type": "code",
   "execution_count": 4,
   "id": "f27384d3",
   "metadata": {
    "execution": {
     "iopub.execute_input": "2024-12-12T14:41:52.400675Z",
     "iopub.status.busy": "2024-12-12T14:41:52.400273Z",
     "iopub.status.idle": "2024-12-12T14:41:52.407011Z",
     "shell.execute_reply": "2024-12-12T14:41:52.405873Z"
    },
    "papermill": {
     "duration": 0.012284,
     "end_time": "2024-12-12T14:41:52.409164",
     "exception": false,
     "start_time": "2024-12-12T14:41:52.396880",
     "status": "completed"
    },
    "tags": []
   },
   "outputs": [],
   "source": [
    "def predict(problem_statement: str, repo_archive: io.BytesIO) -> str:\n",
    "    global first_prediction\n",
    "    if not first_prediction:\n",
    "        return None  \n",
    "\n",
    "    with open('repo_archive.tar', 'wb') as f:\n",
    "        f.write(repo_archive.read())\n",
    "    repo_path = 'repo'\n",
    "    if os.path.exists(repo_path):\n",
    "        shutil.rmtree(repo_path)\n",
    "    shutil.unpack_archive('repo_archive.tar', extract_dir=repo_path)\n",
    "    os.remove('repo_archive.tar')\n",
    "    first_prediction = False\n",
    "    return f\" Prediction successful for the issue: '{problem_statement}'. Please review the proposed solution.: \""
   ]
  },
  {
   "cell_type": "code",
   "execution_count": 5,
   "id": "d4282806",
   "metadata": {
    "execution": {
     "iopub.execute_input": "2024-12-12T14:41:52.415701Z",
     "iopub.status.busy": "2024-12-12T14:41:52.415306Z",
     "iopub.status.idle": "2024-12-12T14:41:52.456645Z",
     "shell.execute_reply": "2024-12-12T14:41:52.455435Z"
    },
    "papermill": {
     "duration": 0.047926,
     "end_time": "2024-12-12T14:41:52.459818",
     "exception": false,
     "start_time": "2024-12-12T14:41:52.411892",
     "status": "completed"
    },
    "tags": []
   },
   "outputs": [],
   "source": [
    "inference_server = kaggle_evaluation.konwinski_prize_inference_server.KPrizeInferenceServer(\n",
    "    get_number_of_instances,\n",
    "    predict\n",
    ")\n"
   ]
  },
  {
   "cell_type": "code",
   "execution_count": 6,
   "id": "2b0fadbb",
   "metadata": {
    "execution": {
     "iopub.execute_input": "2024-12-12T14:41:52.469552Z",
     "iopub.status.busy": "2024-12-12T14:41:52.468499Z",
     "iopub.status.idle": "2024-12-12T14:42:17.582087Z",
     "shell.execute_reply": "2024-12-12T14:42:17.580738Z"
    },
    "papermill": {
     "duration": 25.121595,
     "end_time": "2024-12-12T14:42:17.585174",
     "exception": false,
     "start_time": "2024-12-12T14:41:52.463579",
     "status": "completed"
    },
    "tags": []
   },
   "outputs": [
    {
     "name": "stdout",
     "output_type": "stream",
     "text": [
      "Forcing micromamba reinstallation to mitigate issues with older images.\n"
     ]
    }
   ],
   "source": [
    "if os.getenv('KAGGLE_IS_COMPETITION_RERUN'):\n",
    "    inference_server.serve()\n",
    "else:\n",
    "    inference_server.run_local_gateway(\n",
    "        data_paths=(\n",
    "            '/kaggle/input/konwinski-prize/',  \n",
    "            '/kaggle/tmp/konwinski-prize/',   \n",
    "        )\n",
    "    )"
   ]
  }
 ],
 "metadata": {
  "kaggle": {
   "accelerator": "none",
   "dataSources": [
    {
     "databundleVersionId": 10462807,
     "sourceId": 84795,
     "sourceType": "competition"
    }
   ],
   "dockerImageVersionId": 30804,
   "isGpuEnabled": false,
   "isInternetEnabled": false,
   "language": "python",
   "sourceType": "notebook"
  },
  "kernelspec": {
   "display_name": "Python 3",
   "language": "python",
   "name": "python3"
  },
  "language_info": {
   "codemirror_mode": {
    "name": "ipython",
    "version": 3
   },
   "file_extension": ".py",
   "mimetype": "text/x-python",
   "name": "python",
   "nbconvert_exporter": "python",
   "pygments_lexer": "ipython3",
   "version": "3.10.14"
  },
  "papermill": {
   "default_parameters": {},
   "duration": 43.019701,
   "end_time": "2024-12-12T14:42:18.311789",
   "environment_variables": {},
   "exception": null,
   "input_path": "__notebook__.ipynb",
   "output_path": "__notebook__.ipynb",
   "parameters": {},
   "start_time": "2024-12-12T14:41:35.292088",
   "version": "2.6.0"
  }
 },
 "nbformat": 4,
 "nbformat_minor": 5
}
